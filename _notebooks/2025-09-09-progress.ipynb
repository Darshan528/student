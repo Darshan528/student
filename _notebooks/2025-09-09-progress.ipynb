{
 "cells": [
  {
   "cell_type": "markdown",
   "id": "7b2c95ea",
   "metadata": {},
   "source": [
    "---\n",
    "title: My progress\n",
    "description: my progress so far throughout CSP\n",
    "comments: false\n",
    "layout: default\n",
    "permalink: /progress67\n",
    "---"
   ]
  },
  {
   "cell_type": "markdown",
   "id": "33e7ad4f",
   "metadata": {},
   "source": [
    "# Here is my progress so far in CSP \n",
    "\n",
    "<li> I have learned to open my studne through ubuntu, at which I found very hard. But with the simple command\n",
    " cd coding/student, code ., source venv/bin/activate, code .\n",
    " <li> I have learned how to commit and push through vs code that goes into github\n",
    " <li> I have learned that a reposityory is place where files, code, or data is stored and managed, usually with version control so you can track changes over time and colaborate with peers. Version control: System that recrods changes to what you do without losing track of progress\n",
    " <li> To open pages you  need to do cd.., cd.., cd opencs/pages, code .\n",
    " \n",
    "In the following paragraphs, I will reflect on my experience learning computer science so far. I will talk about the challenges I’ve faced as a beginner, the ways I’ve started to grow and improve, what it’s been like working with others, and how these experiences might impact my learning in the future. This reflection will give a look at both the struggles and the progress I’ve made along the way.\n",
    "\n",
    "# What I Learned\n",
    "\n",
    "One of the biggest things I  learned is github and terminal, both of these were very interesting topics becuase I have never ever done this in coding.. I usually just go to some \n",
    "website and add code uising the html classsess I have learned. My peer told me about make file, and that its a file that contains a set of rules for building and managing programsa, the advantage with this is that you can run your code locally instead globally\n",
    "\n",
    "# Challenges with Collaboration\n",
    "\n",
    "Collaboration has been one of the hardest parts for me in CSP. Since I’m still really new, I don’t always feel confident jumping in I’m just trying to catch up. I ask a lot of questions, and sometimes I worry I’m slowing everyone down. On top of that, group work isn’t always my jam because I try to learn but the group is aelready ahead and comlpleted the work that has been done. When that happens, it’s even harder for me to keep track of what’s going on, because I’m already still learning the basics. Luckily I have patietn temates including Shayan, Akhil, and Rudra who are ready to tyr and help me for my problem.s It can feel a little overwhelming, like I’m trying to follow directions in a language I barely understand while everyone else is joking around. But at the same time, those moments really showed me how important it is for everyone to stay on the same page. I realized that coding as a group isn’t just about typing stuff into the computer—it’s also about communication, patience, and making sure no one gets left behind.\n",
    "\n",
    "# Growth\n",
    "\n",
    "Even though I’m still at the very beginning, I can already see how much I’ve grown compared to when I first started. At the start, I didn't know anything about coding even what folders are. But now I know what folders are, I have some knowledge of the terminal, what ubuntu is, github is, and some simple commands for terminal. At least now I can push commits or run make in the right terminal.\n",
    "\n",
    "# Looking Ahead\n",
    "\n",
    "Even with the challenges, I think these experiences are going to help me a lot as I keep learning CS, I still only have a little bit of core knowledge liek repos and reposityorys but I am still ready to explore the challenge ahead. \n"
   ]
  }
 ],
 "metadata": {
  "language_info": {
   "name": "python"
  }
 },
 "nbformat": 4,
 "nbformat_minor": 5
}

{
 "cells": [
  {
   "cell_type": "raw",
   "id": "5d9d659b",
   "metadata": {
    "vscode": {
     "languageId": "raw"
    }
   },
   "source": [
    "---\n",
    "layout: default\n",
    "title: Variables & Assignments\n",
    "description: This page will provide homework for the variables and assigmnets lesson.\n",
    "permalink: /js/variables/zombies/hw\n",
    "breadcrumb: True\n",
    "Author: Ethan Patel, Tanay Paranjpe, Neil Manjrekar\n",
    "---"
   ]
  },
  {
   "cell_type": "markdown",
   "id": "4f2bb0f9",
   "metadata": {},
   "source": [
    "## Javascript Variables HW"
   ]
  },
  {
   "cell_type": "code",
   "execution_count": null,
   "id": "a349231f",
   "metadata": {
    "vscode": {
     "languageId": "javascript"
    }
   },
   "outputs": [],
   "source": [
    "%%js\n",
    "\n",
    "// Part 1\n",
    "// Personal info\n",
    "let myName = \"Darshan\";       // Fill in your name\n",
    "let myAge = 15          // Fill in your age (number, no quotes)\n",
    "let myCity = \"SanDiego\";       // Fill in the city where you live\n",
    "\n",
    "// Part 2\n",
    "// Preferences\n",
    "let favoriteColor = \"Red\";      // Your favorite color\n",
    "let favoriteFood = \"Pizza\";       // Your favorite food\n",
    "let favoriteMovie = \"Demon Slayer\";      // Your favorite movie\n",
    "let favoriteSong = \"ALl Red\";       // Your favorite song\n",
    "\n",
    "// Part 3\n",
    "// Reassign some variables (you can change their values later)\n",
    "favoriteFood = \"Pizza\";      // Change your favorite food\n",
    "myCity = \"SanDiego\";            // Change your city\n",
    "let hasPet = true          // true or false (Boolean)\n",
    "\n",
    "// Part 4\n",
    "// Add some more details\n",
    "let isStudent = True       // true or false\n",
    "let isOnline = True        // true or false\n",
    "let likesMusic = Treu      // true or false\n",
    "\n",
    "// Part 5: Print Your Life Profile\n",
    "console.log(\"Name:\", myName);\n",
    "console.log(\"Age:\", myAge);\n",
    "console.log(\"City:\", myCity);\n",
    "console.log(\"Favorite color:\", favoriteColor);\n",
    "console.log(\"Favorite food:\", favoriteFood);\n",
    "console.log(\"Favorite movie:\", favoriteMovie);\n",
    "console.log(\"Favorite song:\", favoriteSong);\n",
    "console.log(\"Student?\", isStudent);\n",
    "console.log(\"Has pet?\", hasPet);\n",
    "console.log(\"Online?\", isOnline);\n",
    "console.log(\"Likes music?\", likesMusic);\n"
   ]
  }
 ],
 "metadata": {
  "language_info": {
   "name": "python"
  }
 },
 "nbformat": 4,
 "nbformat_minor": 5
}

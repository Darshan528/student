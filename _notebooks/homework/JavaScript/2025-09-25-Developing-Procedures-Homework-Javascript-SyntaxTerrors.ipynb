{
 "cells": [
  {
   "cell_type": "markdown",
   "id": "2b34f512",
   "metadata": {},
   "source": [
    "---\n",
    "layout: default\n",
    "title: Coding Concept - Developing Procedures\n",
    "description: Understanding Developing Procedures in Python and JavaScript\n",
    "permalink: /csp/big-idea-three/developingprocedures/javascript/hw/p3/syntaxterrors\n",
    "author: Meryl C\n",
    "---"
   ]
  },
  {
   "cell_type": "code",
   "execution_count": 1,
   "id": "101fed29",
   "metadata": {
    "vscode": {
     "languageId": "javascript"
    }
   },
   "outputs": [
    {
     "data": {
      "application/javascript": "\n// Homework: Developing Procedures in JavaScript\n// 1. Write a procedure that takes a number and returns its cube.\nfunction cube(n) {\n  return n * n * n;\n}\n\n// 2. Write a procedure that takes an array of numbers and returns the sum.\nfunction listSum(numbers) {\n  let total = 0;\n  for (let num of numbers) {\n    total += num;\n  }\n  return total;\n}\n\n// 3. Write a procedure that checks if a word is a palindrome.\nfunction isPalindrome(word) {\n  const reversed = word.split('').reverse().join('');\n  return word === reversed;\n}\n\n// Test the functions\nconsole.log(cube(3)); // 27\n\nconst nums = [1, 2, 3];\nconsole.log(listSum(nums)); // 6\n\nconsole.log(isPalindrome(\"racecar\")); // true\nconsole.log(isPalindrome(\"apple\"));   // false\n",
      "text/plain": [
       "<IPython.core.display.Javascript object>"
      ]
     },
     "metadata": {},
     "output_type": "display_data"
    }
   ],
   "source": [
    "%%js\n",
    "\n",
    "// Homework: Developing Procedures in JavaScript\n",
    "// 1. Write a procedure that takes a number and returns its cube.\n",
    "function cube(n) {\n",
    "  return n * n * n;\n",
    "}\n",
    "\n",
    "// 2. Write a procedure that takes an array of numbers and returns the sum.\n",
    "function listSum(numbers) {\n",
    "  let total = 0;\n",
    "  for (let num of numbers) {\n",
    "    total += num;\n",
    "  }\n",
    "  return total;\n",
    "}\n",
    "\n",
    "// 3. Write a procedure that checks if a word is a palindrome.\n",
    "function isPalindrome(word) {\n",
    "  const reversed = word.split('').reverse().join('');\n",
    "  return word === reversed;\n",
    "}\n",
    "\n",
    "// Test the functions\n",
    "console.log(cube(3)); // 27\n",
    "\n",
    "const nums = [1, 2, 3];\n",
    "console.log(listSum(nums)); // 6\n",
    "\n",
    "console.log(isPalindrome(\"racecar\")); // true\n",
    "console.log(isPalindrome(\"apple\"));   // false\n"
   ]
  }
 ],
 "metadata": {
  "kernelspec": {
   "display_name": "venv (3.12.3)",
   "language": "python",
   "name": "python3"
  },
  "language_info": {
   "codemirror_mode": {
    "name": "ipython",
    "version": 3
   },
   "file_extension": ".py",
   "mimetype": "text/x-python",
   "name": "python",
   "nbconvert_exporter": "python",
   "pygments_lexer": "ipython3",
   "version": "3.12.3"
  }
 },
 "nbformat": 4,
 "nbformat_minor": 5
}

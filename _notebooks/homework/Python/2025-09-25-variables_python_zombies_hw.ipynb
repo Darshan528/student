{
 "cells": [
  {
   "cell_type": "raw",
   "id": "6d62ad69",
   "metadata": {
    "vscode": {
     "languageId": "raw"
    }
   },
   "source": [
    "---\n",
    "layout: default\n",
    "title: Variables & Assignments\n",
    "description: This page will provide homework for the variables and assigmnets lesson.\n",
    "permalink: /python/variables/zombies/hw\n",
    "breadcrumb: True\n",
    "Author: Ethan Patel, Tanay Paranjpe, Neil Manjrekar\n",
    "---"
   ]
  },
  {
   "cell_type": "markdown",
   "id": "2b9da6aa",
   "metadata": {},
   "source": [
    "## Variables & Assignment Homework\n",
    "---\n",
    "Description:\n",
    "- In this homework hack, you will practice creating and using variables. You’ll define variables to store your name and age, reassign values, and answer interactive questions to test your understanding. This activity will help you master the basics of variables and how they work in programming."
   ]
  },
  {
   "cell_type": "markdown",
   "id": "352d458b",
   "metadata": {
    "vscode": {
     "languageId": "plaintext"
    }
   },
   "source": [
    "# 🏠 Variables Quest Homework\n",
    "\n",
    "**Objective:** Practice creating, manipulating, and combining strings in Python.\n",
    "\n",
    "---\n",
    "\n",
    "## Instructions\n",
    "\n",
    "Complete each challenge by **filling in the missing code**. Use the examples as a guide, but make sure to write your own values or logic.\n"
   ]
  },
  {
   "cell_type": "markdown",
   "id": "39715e07",
   "metadata": {
    "vscode": {
     "languageId": "raw"
    }
   },
   "source": [
    "## Challenge 1: Creating a Life Profile with Variables"
   ]
  },
  {
   "cell_type": "code",
   "execution_count": null,
   "id": "35609373",
   "metadata": {},
   "outputs": [],
   "source": [
    "# Part 1\n",
    "## Personal info\n",
    "my_name = \"Darshan Sivashankar\"___           # Fill in your name\n",
    "my_age = 15 ___            # Fill in your age\n",
    "my_city = \"SanDiego\"___           # Fill in the city where you live\n",
    "\n",
    "# Part 2\n",
    "## Preferences\n",
    "favorite_color = \"Red\" ___    # Your favorite color\n",
    "favorite_food = _\"chicken\"__     # Your favorite food\n",
    "favorite_movie = \"Demonslayer movie\"___    # Your favorite movie\n",
    "favorite_song = _\"All Red\"__     # Your favorite song\n",
    "\n",
    "# Part 3\n",
    "# Reassign some variables\n",
    "favorite_food = _\"Pizza\"__\n",
    "my_city =  \"SanDiego\"___\n",
    "has_pet = _\"None\"__\n",
    "\n",
    "# Part 5: Print Your Life Profile\n",
    "Print all your variables so your “Life Profile” is displayed:\n",
    "\n",
    "print(\"Name:\", my_name)\n",
    "print(\"Age:\", my_age)\n",
    "print(\"City:\", my_city)\n",
    "print(\"Favorite color:\", favorite_color)\n",
    "print(\"Favorite food:\", favorite_food)\n",
    "print(\"Favorite movie:\", favorite_movie)\n",
    "print(\"Favorite song:\", favorite_song)\n",
    "print(\"Student?\", is_student)\n",
    "print(\"Has pet?\", has_pet)\n",
    "print(\"Online?\", is_online)\n",
    "print(\"Likes music?\", likes_music)\n"
   ]
  },
  {
   "cell_type": "markdown",
   "id": "748cd3e2",
   "metadata": {},
   "source": [
    "# Task 2 "
   ]
  },
  {
   "cell_type": "markdown",
   "id": "a775e8cf",
   "metadata": {
    "vscode": {
     "languageId": "html"
    }
   },
   "source": [
    "## Creative Challenge \n",
    "\n",
    "Your task: Create a “story” or “profile” using **ONLY variables and assignments**.  \n",
    "\n",
    "\n",
    "### Instructions:\n",
    "\n",
    "1. **Create at least 8 variables** to describe a character or yourself.  \n",
    "   Examples:  \n",
    "   `name`, `age`, `favorite_food`, `hobby`, `number_of_pets`, `mood`, `favorite_color`, `dream_job`\n",
    "\n",
    "2. **Assign initial values** to all variables.\n",
    "\n",
    "3. **Reassign at least 4 of the variables** to new values to simulate changes over time or “events” in the story.\n",
    "\n",
    "4. Use **print statements** to write a story or profile that is **at least 5 sentences long**.  \n",
    "   Each sentence should include at least one variable.  \n",
    "   Example:  \n",
    "   > \"Tanay ('age' 17) loves pizza and plays tennis ('hobby') every weekend. Today, Tanay is happy because he ate his ('favoirite_food').\"\n",
    "\n",
    "5. Optional: Add **extra variables** to make your story longer and more creative.  \n",
    "   You can also create “day 2”, “day 3”, etc., by reassigning variables and printing new sentences.\n",
    "\n",
    "### Goal:\n",
    "\n",
    "- Show creativity while practicing:  \n",
    "  - Variable creation  \n",
    "  - Variable reassignment  \n",
    "  - Using variables in print statements\n",
    "  - Experiment with assigment and reassigment to update variables \n"
   ]
  },
  {
   "cell_type": "markdown",
   "id": "d75a4417",
   "metadata": {},
   "source": []
  },
  {
   "cell_type": "code",
   "execution_count": null,
   "id": "3b7d5914",
   "metadata": {},
   "outputs": [],
   "source": [
    "# ============================================\n",
    "# CREATIVE CHALLENGE: A Day in My Life Story\n",
    "# ============================================\n",
    "\n",
    "# Part 1: Create initial variables (Character Profile)\n",
    "name = \"Darshan\"\n",
    "age = 15\n",
    "favorite_food = \"chicken\"\n",
    "hobby = \"gym\"\n",
    "number_of_pets = 0\n",
    "mood = \"excited\"\n",
    "favorite_color = \"purple\"\n",
    "dream_job = \"VLSI engineer\"\n",
    "location = \"San Diego\"\n",
    "energy_level = \"low\"\n",
    "\n",
    "# Part 2: Day 1 - Morning (Initial Story)\n",
    "print(\"=== DAY 1: MORNING ===\")\n",
    "print(\"My name is\", name, \"and I'm\", age, \"years old. I woke up feeling\", mood, \"today.\")\n",
    "print(\"I have\", number_of_pets, \"pets at home and my favorite color is\", favorite_color + \".\")\n",
    "print(\"Today in\", location + \", I plan to work on my\", hobby, \"routine.\")\n",
    "print(\"My dream is to become a\", dream_job, \"someday.\")\n",
    "print(\"After breakfast, I ate my favorite food:\", favorite_food + \"!\")\n",
    "print()\n",
    "\n",
    "# Part 3: Reassign variables (Events happen - Afternoon)\n",
    "mood = \"tired\"\n",
    "location = \"gym in San Diego\"\n",
    "energy_level = \"medium\"\n",
    "hobby = \"weightlifting\"\n",
    "\n",
    "print(\"=== DAY 1: AFTERNOON ===\")\n",
    "print(\"After a long session at the\", location + \", I'm now feeling\", mood + \".\")\n",
    "print(\"I switched from general gym to focusing on\", hobby + \".\")\n",
    "print(\"My energy level is\", energy_level, \"after a good workout.\")\n",
    "print()\n",
    "\n",
    "# Part 4: More reassignments (Evening Changes)\n",
    "favorite_food = \"grilled chicken\"\n",
    "mood = \"accomplished\"\n",
    "number_of_pets = 1  # Got a pet!\n",
    "location = \"home in San Diego\"\n",
    "\n",
    "print(\"=== DAY 1: EVENING ===\")\n",
    "print(\"I arrived back at my\", location, \"and my mood changed to\", mood + \"!\")\n",
    "print(\"My family surprised me with a pet, so now I have\", number_of_pets, \"pet!\")\n",
    "print(\"To celebrate, I cooked my favorite:\", favorite_food + \".\")\n",
    "print(\"Even though I'm\", age, \"years old, I still dream of being a\", dream_job + \".\")\n",
    "print()\n",
    "\n",
    "# Part 5: Day 2 - A New Beginning\n",
    "age = 16  # Birthday!\n",
    "mood = \"motivated\"\n",
    "favorite_color = \"blue\"\n",
    "dream_job = \"chip design VLSI engineer\"\n",
    "energy_level = \"high\"\n",
    "\n",
    "print(\"=== DAY 2: BIRTHDAY MORNING ===\")\n",
    "print(\"It's my birthday! I just turned\", age, \"years old!\")\n",
    "print(\"My favorite color changed to\", favorite_color, \"after seeing the San Diego sky.\")\n",
    "print(\"I'm feeling\", mood, \"because I refined my dream job to be a\", dream_job + \"!\")\n",
    "print(\"I can't wait to hit the\", hobby, \"session and spend time with my\", number_of_pets, \"pet today!\")\n",
    "print(\"My energy level is\", energy_level, \"and I'm ready to tackle the day in\", location + \"!\")"
   ]
  }
 ],
 "metadata": {
  "language_info": {
   "name": "python"
  }
 },
 "nbformat": 4,
 "nbformat_minor": 5
}

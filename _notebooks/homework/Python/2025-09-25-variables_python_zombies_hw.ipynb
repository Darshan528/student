{
 "cells": [
  {
   "cell_type": "raw",
   "id": "6d62ad69",
   "metadata": {
    "vscode": {
     "languageId": "raw"
    }
   },
   "source": [
    "---\n",
    "layout: default\n",
    "title: Variables & Assignments\n",
    "description: This page will provide homework for the variables and assigmnets lesson.\n",
    "permalink:/python/variables/zombies/hw \n",
    "breadcrumb: True\n",
    "Author: Ethan Patel, Tanay Paranjpe, Neil Manjrekar\n",
    "---"
   ]
  },
  {
   "cell_type": "markdown",
   "id": "2b9da6aa",
   "metadata": {},
   "source": [
    "## Variables & Assignment Homework\n",
    "---\n",
    "Description:\n",
    "- In this homework hack, you will practice creating and using variables. You’ll define variables to store your name and age, reassign values, and answer interactive questions to test your understanding. This activity will help you master the basics of variables and how they work in programming."
   ]
  },
  {
   "cell_type": "markdown",
   "id": "352d458b",
   "metadata": {
    "vscode": {
     "languageId": "plaintext"
    }
   },
   "source": [
    "# 🏠 Variables Quest Homework\n",
    "\n",
    "**Objective:** Practice creating, manipulating, and combining strings in Python.\n",
    "\n",
    "---\n",
    "\n",
    "## Instructions\n",
    "\n",
    "Complete each challenge by **filling in the missing code**. Use the examples as a guide, but make sure to write your own values or logic.\n"
   ]
  },
  {
   "cell_type": "markdown",
   "id": "39715e07",
   "metadata": {
    "vscode": {
     "languageId": "raw"
    }
   },
   "source": [
    "## Challenge 1: Creating a Life Profile with Variables"
   ]
  },
  {
   "cell_type": "code",
   "execution_count": null,
   "id": "35609373",
   "metadata": {},
   "outputs": [],
   "source": [
    "# Part 1\n",
    "## Personal info\n",
    "my_name = \"Darshan\"          # Fill in your name\n",
    "my_age = 15           # Fill in your age\n",
    "my_city = \"SanDiego\"           # Fill in the city where you live\n",
    "\n",
    "# Part 2\n",
    "## Preferences\n",
    "favorite_color = \"red\"    # Your favorite color\n",
    "favorite_food = \"chicken\"    # Your favorite food\n",
    "favorite_movie =\"Demon Slayer\"   # Your favorite movie\n",
    "favorite_song = \"All Red\"     # Your favorite song\n",
    "\n",
    "# Part 3\n",
    "# Reassign some variables\n",
    "favorite_food = \"Chicken\"\n",
    "my_city = \"SanDiego\"\n",
    "has_pet = \"False\"\n",
    "\n",
    "# Part 5: Print Your Life Profile\n",
    "Print all your variables so your “Life Profile” is displayed:\n",
    "\n",
    "print(\"Name:\", my_name)\n",
    "print(\"Age:\", my_age)\n",
    "print(\"City:\", my_city)\n",
    "print(\"Favorite color:\", favorite_color)\n",
    "print(\"Favorite food:\", favorite_food)\n",
    "print(\"Favorite movie:\", favorite_movie)\n",
    "print(\"Favorite song:\", favorite_song)\n",
    "print(\"Student?\", is_student)\n",
    "print(\"Has pet?\", has_pet)\n",
    "print(\"Online?\", is_online)\n",
    "print(\"Likes music?\", likes_music)\n"
   ]
  },
  {
   "cell_type": "markdown",
   "id": "748cd3e2",
   "metadata": {},
   "source": [
    "# Task 2 "
   ]
  },
  {
   "cell_type": "markdown",
   "id": "a775e8cf",
   "metadata": {},
   "source": [
    "## Creative Challenge \n",
    "\n",
    "Your task: Create a “story” or “profile” using **ONLY variables and assignments**.  \n",
    "\n",
    "\n",
    "### Instructions:\n",
    "\n",
    "1. **Create at least 8 variables** to describe a character or yourself.  \n",
    "   Examples:  \n",
    "   `name`, `age`, `favorite_food`, `hobby`, `number_of_pets`, `mood`, `favorite_color`, `dream_job`\n",
    "\n",
    "2. **Assign initial values** to all variables.\n",
    "\n",
    "3. **Reassign at least 4 of the variables** to new values to simulate changes over time or “events” in the story.\n",
    "\n",
    "4. Use **print statements** to write a story or profile that is **at least 5 sentences long**.  \n",
    "   Each sentence should include at least one variable.  \n",
    "   Example:  \n",
    "   > \"Tanay ('age' 17) loves pizza and plays tennis ('hobby') every weekend. Today, Tanay is happy because he ate his ('favoirite_food').\"\n",
    "\n",
    "5. Optional: Add **extra variables** to make your story longer and more creative.  \n",
    "   You can also create “day 2”, “day 3”, etc., by reassigning variables and printing new sentences.\n",
    "\n",
    "\n",
    "\n",
    "\n"
   ]
  },
  {
   "cell_type": "code",
   "execution_count": 8,
   "id": "d75a4417",
   "metadata": {},
   "outputs": [
    {
     "name": "stdout",
     "output_type": "stream",
     "text": [
      "My name is Darshan and I'm 15 years old. I love the color red and I'm working towards becoming a VLSI engineer. I have 0 pets right now, but that's okay because I spend most of my time at the gym anyway. Today I'm feeling pretty motivated since I hit a new personal record during my workout. For dinner I had chicken, which is always good after a long session at the gym. After eating, I actually went back for another two hours because I was still feeling energized.\n",
      "\n",
      "The next day was different. I just turned 16 which feels like a big step forward. I've been feeling excited lately because I started getting into gym and coding. It's cool to combine physical training with learning something technical. For lunch I tried grilled chicken instead of regular chicken, and honestly it tastes better and is probably healthier too. I'm finally getting closer to my goal of becoming a VLSI engineer and my results in the gym have started to show too. Life is nice\n"
     ]
    }
   ],
   "source": [
    "# Creative Challenge: Variable Story\n",
    "# By: Darshan\n",
    "\n",
    "# Create at least 8 variables\n",
    "name = \"Darshan\"\n",
    "age = 15\n",
    "favorite_food = \"chicken\"\n",
    "hobby = \"gym\"\n",
    "number_of_pets = 0\n",
    "mood = \"motivated\"\n",
    "favorite_color = \"red\"\n",
    "dream_job = \"VLSI engineer\"\n",
    "\n",
    "# Day 1 - Initial story\n",
    "print(\"My name is\", name, \"and I'm\", age, \"years old. I love the color\", favorite_color, \"and I'm working towards becoming a\", dream_job + \". I have\", number_of_pets, \"pets right now, but that's okay because I spend most of my time at the\", hobby, \n",
    "      \"anyway. Today I'm feeling pretty\", mood, \n",
    "      \"since I hit a new personal record during my workout. For dinner I had\", favorite_food + \", which is always good after a long session at the gym. After eating, I actually went back for another two hours because I was still feeling energized.\")\n",
    "\n",
    "# Reassign at least 4 variables to simulate changes\n",
    "mood = \"excited\"\n",
    "favorite_food = \"grilled chicken\"\n",
    "hobby = \"gym and coding\"\n",
    "age = 16\n",
    "\n",
    "# Day 2 - Updated story\n",
    "print(\"\\nThe next day was different. I just turned\", age, \"which feels like a big step forward. I've been feeling\", mood, \"lately because I started getting into\", hobby + \".\"\n",
    "\" It's cool to combine physical training with learning something technical. For lunch I tried\", favorite_food, \"instead of regular chicken, and honestly it tastes better and is probably healthier too. \" \\\n",
    "\"I'm finally getting closer to my goal of becoming a\", dream_job, \"and my results in the gym have started to show too. Life is nice\")\n",
    "\n"
   ]
  }
 ],
 "metadata": {
  "kernelspec": {
   "display_name": "venv (3.12.3)",
   "language": "python",
   "name": "python3"
  },
  "language_info": {
   "codemirror_mode": {
    "name": "ipython",
    "version": 3
   },
   "file_extension": ".py",
   "mimetype": "text/x-python",
   "name": "python",
   "nbconvert_exporter": "python",
   "pygments_lexer": "ipython3",
   "version": "3.12.3"
  }
 },
 "nbformat": 4,
 "nbformat_minor": 5
}

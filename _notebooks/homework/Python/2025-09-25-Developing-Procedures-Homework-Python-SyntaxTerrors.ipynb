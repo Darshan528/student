{
 "cells": [
  {
   "cell_type": "markdown",
   "id": "fe8aac41",
   "metadata": {
    "vscode": {
     "languageId": "raw"
    }
   },
   "source": [
    "---\n",
    "layout: default\n",
    "title: Developing Procedures Homework\n",
    "description: Understanding Developing Procedures in Python\n",
    "permalink: /csp/big-idea-three/developingprocedures/python/hw/p3/syntaxterrors\n",
    "author: Kailyn S\n",
    "---"
   ]
  },
  {
   "cell_type": "markdown",
   "id": "e1f1e1b7",
   "metadata": {},
   "source": [
    "## Practice Developing Procedures\n",
    "In these examples, you'll be practicing developing procedures based off the context of the name and the call.\n",
    "\n",
    "Practice 1:"
   ]
  },
  {
   "cell_type": "code",
   "execution_count": null,
   "id": "deab15c3",
   "metadata": {},
   "outputs": [
    {
     "ename": "IndentationError",
     "evalue": "expected an indented block after function definition on line 2 (2172943369.py, line 3)",
     "output_type": "error",
     "traceback": [
      "  \u001b[36mCell\u001b[39m\u001b[36m \u001b[39m\u001b[32mIn[6]\u001b[39m\u001b[32m, line 3\u001b[39m\n\u001b[31m    \u001b[39m\u001b[31mtotal = add(a, b)\u001b[39m\n    ^\n\u001b[31mIndentationError\u001b[39m\u001b[31m:\u001b[39m expected an indented block after function definition on line 2\n"
     ]
    }
   ],
   "source": [
    "def add(a, b): # what would you add here to make the function make sense later on?\n",
    "    \n",
    "    \n",
    "def show_sum(a, b):\n",
    "    total = add(a, b)\n",
    "    print(\"The sum is:\", total)\n",
    "\n",
    "show_sum(4, 7)\n"
   ]
  },
  {
   "cell_type": "code",
   "execution_count": null,
   "id": "c9e3a85e",
   "metadata": {},
   "outputs": [
    {
     "name": "stdout",
     "output_type": "stream",
     "text": [
      "The sum is: 11\n"
     ]
    }
   ],
   "source": [
    "def add(a, b):\n",
    "    return a + b  \n",
    "\n",
    "def show_sum(a, b):\n",
    "    total = add(a, b)\n",
    "    print(\"The sum is:\", total)\n",
    "\n",
    "show_sum(4, 7) "
   ]
  },
  {
   "cell_type": "markdown",
   "id": "f6572a1e",
   "metadata": {},
   "source": [
    "Practice 2:"
   ]
  },
  {
   "cell_type": "code",
   "execution_count": null,
   "id": "68fed7cf",
   "metadata": {},
   "outputs": [],
   "source": [
    "def wake_up();\n",
    "    print(\"Wake up!\")\n",
    "\n",
    "def breakfast():\n",
    "    print(\"Eat breakfast!\")\n",
    "\n",
    "def get_ready():\n",
    "    print(\"Get ready for the day!\")\n",
    "\n",
    "# how would you change it so instead of having three seperate functions, you could only have one?\n",
    "def morning_routine():\n",
    "\n",
    "morning_routine()"
   ]
  },
  {
   "cell_type": "code",
   "execution_count": 2,
   "id": "56c6a520",
   "metadata": {},
   "outputs": [
    {
     "name": "stdout",
     "output_type": "stream",
     "text": [
      "Wake up!\n",
      "Eat breakfast!\n",
      "Get ready for the day!\n"
     ]
    }
   ],
   "source": [
    "def wake_up():\n",
    "    print(\"Wake up!\")\n",
    "\n",
    "def breakfast():\n",
    "    print(\"Eat breakfast!\")\n",
    "\n",
    "def get_ready():\n",
    "    print(\"Get ready for the day!\")\n",
    "\n",
    "def morning_routine():\n",
    "    wake_up()\n",
    "    breakfast()\n",
    "    get_ready()\n",
    "\n",
    "morning_routine()"
   ]
  },
  {
   "cell_type": "markdown",
   "id": "ff001db8",
   "metadata": {},
   "source": [
    "Practice 3:"
   ]
  },
  {
   "cell_type": "code",
   "execution_count": null,
   "id": "5d1d521e",
   "metadata": {},
   "outputs": [],
   "source": [
    "def greet(): # how would you define the function to print \"Hi (name)! and so that it can change on a name to name basis?\"\n",
    "    print()\n",
    "\n",
    "# Test different inputs\n",
    "greet(\"Mr. Mort\")\n"
   ]
  },
  {
   "cell_type": "code",
   "execution_count": 1,
   "id": "27026c96",
   "metadata": {},
   "outputs": [
    {
     "name": "stdout",
     "output_type": "stream",
     "text": [
      "Hi Darshan!\n",
      "Hi Shayan!\n",
      "Hi Rudra!\n"
     ]
    }
   ],
   "source": [
    "def greet(name):  # Add a parameter to accept the name\n",
    "    print(\"Hi \" + name + \"!\")\n",
    "\n",
    "# Test different inputs\n",
    "greet(\"Darshan\")  # Output: Hi Mr. Mort!\n",
    "greet(\"Shayan\")     # Output: Hi Alice!\n",
    "greet(\"Rudra\")       # Output: Hi Bob!"
   ]
  },
  {
   "cell_type": "markdown",
   "id": "464fca1f",
   "metadata": {},
   "source": [
    "## Combining Calling and Developing Procedures\n",
    "Now that you understand both calling and developing, let's combine the two to fully use functions!\n",
    "Your final task is to be able to produce, on your own, three procedures and call them in an order that makes sense. For example:"
   ]
  },
  {
   "cell_type": "code",
   "execution_count": 1,
   "id": "c23217aa",
   "metadata": {},
   "outputs": [
    {
     "name": "stdout",
     "output_type": "stream",
     "text": [
      "Your final average grade is: 89.8\n"
     ]
    }
   ],
   "source": [
    "def get_grades():\n",
    "    grades = [87, 93, 88, 91, 90]\n",
    "    return grades\n",
    "\n",
    "\n",
    "def grade_calc(grades):\n",
    "    total = sum(grades)\n",
    "    average = total / len(grades)\n",
    "    return average\n",
    "\n",
    "def display_grade():\n",
    "    grades = get_grades()\n",
    "    average = grade_calc(grades)\n",
    "    print (\"Your final average grade is:\", average)\n",
    "\n",
    "display_grade()"
   ]
  },
  {
   "cell_type": "markdown",
   "id": "b8f68a8d",
   "metadata": {},
   "source": [
    "The requirements for this are:\n",
    "1. must have three seperate procedures.\n",
    "2. must call all three procedures at least once, and it can be within other procedures.\n",
    "3. must have at least one print and at least one math function.\n",
    "4. at least one procedure must have multiple steps.\n",
    "\n",
    "Other than that, have fun and create something as simple or complex as you'd like!"
   ]
  },
  {
   "cell_type": "code",
   "execution_count": null,
   "id": "7391fc83",
   "metadata": {},
   "outputs": [],
   "source": [
    "# put code here."
   ]
  }
 ],
 "metadata": {
  "kernelspec": {
   "display_name": "venv (3.12.3)",
   "language": "python",
   "name": "python3"
  },
  "language_info": {
   "codemirror_mode": {
    "name": "ipython",
    "version": 3
   },
   "file_extension": ".py",
   "mimetype": "text/x-python",
   "name": "python",
   "nbconvert_exporter": "python",
   "pygments_lexer": "ipython3",
   "version": "3.12.3"
  }
 },
 "nbformat": 4,
 "nbformat_minor": 5
}
